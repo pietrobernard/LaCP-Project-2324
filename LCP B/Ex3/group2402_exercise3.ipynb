{
 "cells": [
  {
   "cell_type": "markdown",
   "metadata": {},
   "source": [
    "# LCPB 23-24 exercise 3 (XGBoost)\n",
    "- Andrea Semenzato 2130973\n",
    "- Pietro Bernardi 2097494\n",
    "- Tomàs Mezquita 2109239\n",
    "- Mariam Chokheli 2122278"
   ]
  },
  {
   "cell_type": "markdown",
   "metadata": {},
   "source": [
    "### POINT 1\n",
    "\n",
    "### Model complexity, parameters’ and regularization\n",
    "\n",
    "### Try different parameters (λ, γ, n_estimators, …). Which is the simplest yet effective XGBoost model that keeps a good validation accuracy? Is regularization useful for this analysis?"
   ]
  },
  {
   "cell_type": "code",
   "execution_count": null,
   "metadata": {},
   "outputs": [],
   "source": []
  },
  {
   "cell_type": "markdown",
   "metadata": {},
   "source": [
    "### POINT 2\n",
    "\n",
    "### Dimensionality reduction\n",
    "\n",
    "### Consider reduced data samples with L’<L features. For example, feature 0,1, and 3 out of the L=4 features.\n",
    "\r",
    "### Check if the exclusion of the least important feature(s) from training data leads to better accuracy."
   ]
  },
  {
   "cell_type": "code",
   "execution_count": null,
   "metadata": {},
   "outputs": [],
   "source": [
    "x012 = np.delete(x,3,axis=1)\n",
    "x013 = np.delete(x,2,axis=1)\n",
    "\n",
    "...\n",
    "\n",
    "model = XGBClassifier(seed=1,\n",
    "                      objective='binary:logistic',\n",
    "                      importance_type=\"gain\",\n",
    "                      learning_rate=0.511,\n",
    "                      reg_lambda=0.012, \n",
    "                      n_estimators=50)\n",
    "\n",
    "classify(model, show=True)"
   ]
  },
  {
   "cell_type": "markdown",
   "metadata": {},
   "source": [
    "### POINT 3\n",
    "\n",
    "### XGBoost vs NN\n",
    "\n",
    "### Compare the validation accuracy of XGBoost with that of a simple feed-forward neural network (NN)\n",
    "### • By varying the number of data samples N’ in the training set (i.e., reducing the fraction N’/N of the data set used for training)\n",
    "### • With cross-validation for all cases.\n",
    "\n",
    "### Is the NN or the XGB performing significantly better at low N’?"
   ]
  },
  {
   "cell_type": "markdown",
   "metadata": {},
   "source": []
  }
 ],
 "metadata": {
  "kernelspec": {
   "display_name": "Python 3 (ipykernel)",
   "language": "python",
   "name": "python3"
  },
  "language_info": {
   "codemirror_mode": {
    "name": "ipython",
    "version": 3
   },
   "file_extension": ".py",
   "mimetype": "text/x-python",
   "name": "python",
   "nbconvert_exporter": "python",
   "pygments_lexer": "ipython3",
   "version": "3.11.7"
  }
 },
 "nbformat": 4,
 "nbformat_minor": 4
}
