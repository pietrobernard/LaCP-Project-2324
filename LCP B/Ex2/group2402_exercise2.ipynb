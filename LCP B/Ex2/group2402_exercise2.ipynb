{
 "cells": [
  {
   "cell_type": "markdown",
   "id": "dbd6e90a",
   "metadata": {},
   "source": [
    "# LCPB 23-24 exercise 2 (Data visualization and clustering)\n",
    "- Andrea Semenzato 2130973\n",
    "- Pietro Bernardi 2097494\n",
    "- Tomàs Mezquita 2109239\n",
    "- Mariam Chokheli 2122278"
   ]
  },
  {
   "cell_type": "markdown",
   "id": "982cc916-29ab-42b1-be05-b7e50c003c0a",
   "metadata": {},
   "source": [
    "import numpy as np\n",
    "import matplotlib.pyplot as plt\n",
    "from sklearn.preprocessing import StandardScaler\n",
    "from sklearn.decomposition import PCA\n",
    "from mpl_toolkits import mplot3d\n",
    "from mpl_toolkits.mplot3d import axes3d\n",
    "from sklearn.preprocessing import StandardScaler\n",
    "from sklearn.decomposition import PCA\n",
    "plt.rcParams['figure.dpi'] = 100\n",
    "plt.rcParams['savefig.dpi'] = 300"
   ]
  },
  {
   "cell_type": "markdown",
   "id": "5eaa6f66-ef57-4cc2-9d15-52d823190478",
   "metadata": {},
   "source": [
    "### POINT 1\n",
    "\n",
    "### “Eps” ($\\epsilon$) and “minPts” (mP) in DBSCAN algorithm for clustering\n",
    "\n",
    "### Refine the grid with more values of ε and mP and plot a heat-map showing the normalized mutual information (NMI) between true and predicted clusters, similar to the one on the right.\n",
    "\n",
    "### Is the high NMI region showing a correlation between ε and mP?"
   ]
  },
  {
   "cell_type": "markdown",
   "id": "db88fa19",
   "metadata": {},
   "source": [
    "\n",
    "\n",
    "\n",
    "Yes, as we can see they are strongly correlated. We can see a linear connection between these two parameters. The image shows a band where the NMIs are not zero, which shows a linear tendency. It makes sense that if you increase the epsilon, you must increase the minimum points of the cluster too to get results. It is also remarkable that the best results are gotten with a small number of minimum points.\n",
    "\n",
    "\n",
    "<img src=\"img1ex2.png\" width=\"600\">\n",
    "\n",
    "\n",
    "\n",
    "\n"
   ]
  },
  {
   "cell_type": "markdown",
   "id": "ed829f67",
   "metadata": {},
   "source": [
    "This is the code to generate the heat map of point 1"
   ]
  },
  {
   "cell_type": "markdown",
   "id": "a6e0dea3-9ae5-4578-a62f-ac34b6cfc8c3",
   "metadata": {},
   "source": [
    "eps_range=np.linspace(r/2,2.5*r,30)\n",
    "min_sample_range = np.arange(1,50,2, dtype=int)\n",
    "\n",
    "XX,YY=np.meshgrid(min_sample_range, eps_range)\n",
    "\n",
    "DIMY=len(eps_range)\n",
    "DIMX=len(min_sample_range)\n",
    "it=0\n",
    "\n",
    "nmi=np.zeros((DIMY,DIMX))\n",
    "for i, eps in enumerate(eps_range):\n",
    "    for j, min_samples in enumerate(min_sample_range):\n",
    "        model = DBSCAN(eps=eps, min_samples=min_samples)\n",
    "        model.fit(X)\n",
    "        y_hat = model.labels_\n",
    "        nmi[i,j]=NMI(y_hat, y_true)\n",
    "        \n",
    "\n",
    "plt.pcolormesh(XX,YY,nmi)\n",
    "plt.xlabel('Min samples')\n",
    "plt.ylabel('Eps')\n",
    "plt.title('NMI Heat map')\n",
    "plt.colorbar()\n",
    "plt.show()"
   ]
  },
  {
   "cell_type": "markdown",
   "id": "7bc314e1-a7e4-459d-a4c3-7eea4f28fc61",
   "metadata": {},
   "source": [
    "### POINT 1\n",
    "\n",
    "### Understanding the 12-dimensional data Use the principal component analysis (PCA) to visualize the first components of the data.\n",
    "### Does it help understand its structure?"
   ]
  },
  {
   "cell_type": "code",
   "execution_count": null,
   "id": "5adc9397-bf15-4024-a540-c9516f8900bb",
   "metadata": {},
   "outputs": [],
   "source": [
    "# 2D and 3D PCA on the 12-dimensional dataset\n",
    "\n",
    "# Loading data\n",
    "data = np.loadtxt(\"x_12d.dat\", delimiter='\\t')\n",
    "y = np.loadtxt(\"y_12d.dat\", dtype=int)\n",
    "colors = ['r', 'b', 'gold']\n",
    "\n",
    "# Data standardization\n",
    "scaler = StandardScaler()\n",
    "X = scaler.fit_transform(data)\n",
    "\n",
    "# PCA transformations\n",
    "pca_2d = PCA(n_components=2)\n",
    "pca_3d = PCA(n_components=3)\n",
    "X_pca_2d = pca_2d.fit_transform(X)\n",
    "X_pca_3d = pca_3d.fit_transform(X)\n",
    "\n",
    "# 2D PCA visualizations\n",
    "fig = plt.figure(figsize=(16, 8))\n",
    "unique_labels = np.unique(y)\n",
    "\n",
    "# Combined 2D PCA plot\n",
    "ax1 = fig.add_subplot(2, 4, 1)\n",
    "for i, color in zip(unique_labels, colors):\n",
    "    ax1.scatter(X_pca_2d[y == i, 0], X_pca_2d[y == i, 1], c=color, alpha=0.8, label=f'Class {i}')\n",
    "ax1.set_title('Combined 2D PCA Visualization')\n",
    "ax1.set_xlabel('Principal Component 1')\n",
    "ax1.set_ylabel('Principal Component 2')\n",
    "ax1.grid(True)\n",
    "\n",
    "# Individual 2D PCA plots\n",
    "for index, label in enumerate(unique_labels):\n",
    "    ax = fig.add_subplot(2, 4, index + 2)\n",
    "    ax.scatter(X_pca_2d[y == label, 0], X_pca_2d[y == label, 1], c=colors[index], alpha=0.8, label=f'Class {label}')\n",
    "    ax.set_title(f'2D PCA Class {label}')\n",
    "    ax.set_xlabel('Principal Component 1')\n",
    "    ax.set_ylabel('Principal Component 2')\n",
    "    ax.grid(True)\n",
    "\n",
    "# 3D PCA visualizations\n",
    "fig_3d = plt.figure(figsize=(16, 8))\n",
    "\n",
    "# Combined 3D PCA plot\n",
    "ax2 = fig_3d.add_subplot(2, 4, 1, projection='3d')\n",
    "for i, color in zip(unique_labels, colors):\n",
    "    ax2.scatter(X_pca_3d[y == i, 0], X_pca_3d[y == i, 1], X_pca_3d[y == i, 2], c=color, alpha=0.8, label=f'Class {i}')\n",
    "ax2.set_title('Combined 3D PCA Visualization')\n",
    "ax2.set_xlabel('Principal Component 1')\n",
    "ax2.set_ylabel('Principal Component 2')\n",
    "ax2.set_zlabel('Principal Component 3')\n",
    "ax2.grid(True)\n",
    "\n",
    "# Individual 3D PCA plots\n",
    "for index, label in enumerate(unique_labels):\n",
    "    ax = fig_3d.add_subplot(2, 4, index + 2, projection='3d')\n",
    "    ax.scatter(X_pca_3d[y == label, 0], X_pca_3d[y == label, 1], X_pca_3d[y == label, 2], c=colors[index], alpha=0.8, label=f'Class {label}')\n",
    "    ax.set_title(f'3D PCA Class {label}')\n",
    "    ax.set_xlabel('Principal Component 1')\n",
    "    ax.set_ylabel('Principal Component 2')\n",
    "    ax.set_zlabel('Principal Component 3')\n",
    "    ax.grid(True)\n",
    "\n",
    "plt.show()\n",
    "\n",
    "# Print explained variance ratios\n",
    "print(\"Explained variance ratio for 2D PCA:\", pca_2d.explained_variance_ratio_)\n",
    "print(\"Explained variance ratio for 3D PCA:\", pca_3d.explained_variance_ratio_)"
   ]
  },
  {
   "cell_type": "code",
   "execution_count": null,
   "id": "1d5c3349-2608-4c4a-a609-6c88faa40d15",
   "metadata": {},
   "outputs": [],
   "source": []
  }
 ],
 "metadata": {
  "kernelspec": {
   "display_name": "Python 3 (ipykernel)",
   "language": "python",
   "name": "python3"
  },
  "language_info": {
   "codemirror_mode": {
    "name": "ipython",
    "version": 3
   },
   "file_extension": ".py",
   "mimetype": "text/x-python",
   "name": "python",
   "nbconvert_exporter": "python",
   "pygments_lexer": "ipython3",
   "version": "3.11.7"
  }
 },
 "nbformat": 4,
 "nbformat_minor": 5
}
