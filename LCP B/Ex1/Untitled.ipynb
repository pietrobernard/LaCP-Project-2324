{
 "cells": [
  {
   "cell_type": "markdown",
   "id": "29f899e9",
   "metadata": {},
   "source": [
    "## 1. The lesson discussed two CNN versions: one ending with a global max pooling layer (G), and one ending with a dense layer (D). Choose one of the two G and D versions for the remaining exercise, motivating your choice."
   ]
  },
  {
   "cell_type": "markdown",
   "id": "dd637cf4",
   "metadata": {},
   "source": [
    "### Results for model 1: dense layer\n",
    "\n",
    "Epoch 300/300\n",
    "16/16 - 0s - loss: 0.6260 - accuracy: 0.7325 - val_loss: 0.8343 - val_accuracy: 0.6500 - 209ms/epoch - 13ms/step\n",
    "\n",
    "<img src=\"Model1AcLs.png\" width=\"600\">\n",
    "\n",
    "<img src=\"Model1CM.png\" width=\"600\">\n",
    "\n"
   ]
  },
  {
   "cell_type": "markdown",
   "id": "8e17e38a",
   "metadata": {},
   "source": [
    "### Results for model 2: global max pooling layer\n",
    "\n",
    "Epoch 300/300\n",
    "16/16 - 0s - loss: 0.5773 - accuracy: 0.7706 - val_loss: 0.5994 - val_accuracy: 0.7700 - 372ms/epoch - 23ms/step\n",
    "\n",
    "<img src=\"Model2AcLs.png\" width=\"600\">\n",
    "\n",
    "<img src=\"Model2CM.png\" width=\"600\">\n",
    "\n"
   ]
  },
  {
   "cell_type": "markdown",
   "id": "2ca9fb10",
   "metadata": {},
   "source": [
    "### Discussion:\n",
    "\n",
    "As we can see the second model with the max pooling layer results in a better accuracy and lower loss. That is why this model is more appropiate for this dataset."
   ]
  },
  {
   "cell_type": "markdown",
   "id": "83f8cb83",
   "metadata": {},
   "source": [
    "## 2. Try different optimizers, including at least Adam, RMSprop, and Nesterov. Each one should be tested for at least five values of the learning rate η (for example, including 10-5, 10-4, 10-3). The range could be different for different algorithms. Moreover, at least five fits per model should be collected to obtain statistics with an average and standard deviation of the model’s validation accuracy. Plot all results in a single panel of a figure as a function of η."
   ]
  },
  {
   "cell_type": "code",
   "execution_count": null,
   "id": "c8d293bc",
   "metadata": {},
   "outputs": [],
   "source": []
  }
 ],
 "metadata": {
  "kernelspec": {
   "display_name": "Python 3 (ipykernel)",
   "language": "python",
   "name": "python3"
  },
  "language_info": {
   "codemirror_mode": {
    "name": "ipython",
    "version": 3
   },
   "file_extension": ".py",
   "mimetype": "text/x-python",
   "name": "python",
   "nbconvert_exporter": "python",
   "pygments_lexer": "ipython3",
   "version": "3.11.5"
  }
 },
 "nbformat": 4,
 "nbformat_minor": 5
}
