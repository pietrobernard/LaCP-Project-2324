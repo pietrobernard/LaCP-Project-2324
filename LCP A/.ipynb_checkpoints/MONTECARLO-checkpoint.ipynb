{
 "cells": [
  {
   "cell_type": "code",
   "execution_count": 1,
   "id": "b49b82d3",
   "metadata": {},
   "outputs": [],
   "source": [
    "import numpy as np\n",
    "import matplotlib.pyplot as plt\n",
    "import pandas as pd\n",
    "import scipy.integrate as integrate\n",
    "import time\n",
    "from scipy.optimize import brentq\n",
    "import math as math\n",
    "import numpy.linalg as linalg\n",
    "from scipy.interpolate import interp1d"
   ]
  },
  {
   "cell_type": "markdown",
   "id": "07401b06",
   "metadata": {},
   "source": [
    "Write a Monte Carlo simulation that generates scattering events following the distributions that you find analytically."
   ]
  },
  {
   "cell_type": "code",
   "execution_count": null,
   "id": "35241546",
   "metadata": {
    "scrolled": true
   },
   "outputs": [],
   "source": [
    "'''The approach is to use different methods and see which one is the best for optimize the simulation.\n",
    "We try with those methods:\n",
    "\n",
    "1) Hit or Miss: This method involves generating random points within a defined rectangular area that \n",
    "encompasses the distribution curve of interest. Points beneath the curve (i.e., where the y-value of the \n",
    "point is less than the y-value of the distribution at that x) are kept (\"hits\"), while others are \n",
    "discarded (\"misses\"). The ratio of hits to total points gives an approximation of the area under the \n",
    "curve, which corresponds to the integral of the distribution. This technique is straightforward but can \n",
    "be inefficient, especially for narrow distributions.\n",
    "\n",
    "2) Metropolis-Hastings: This method is a type of Markov Chain Monte Carlo (MCMC) technique\n",
    "(stochastic process without memory, whose future state depends only on the present state and not on how \n",
    "it was reached). It generates a sequence of sample values in such a way that, as more samples are \n",
    "produced, the distribution of values more closely approximates the desired distribution. It does this by \n",
    "starting from an arbitrary position and generating a new sample (theta_star) based on a proposal \n",
    "distribution. This new sample is then accepted with a probability that depends on the ratio of the \n",
    "distribution's value at the new sample to that at the current sample. This method is more efficient than \n",
    "Hit or Miss for complex or multi-dimensional distributions.\n",
    "\n",
    "3) Inverse Sampling: This method relies on the Cumulative Distribution Function (CDF) of the target \n",
    "distribution. By sampling from a uniform distribution and then applying the inverse CDF, samples are \n",
    "generated according to the desired distribution. This method requires the analytical form of the inverse \n",
    "CDF, which can be a limitation for distributions where the inverse CDF is difficult to calculate.'''"
   ]
  },
  {
   "cell_type": "code",
   "execution_count": null,
   "id": "1390ddae",
   "metadata": {},
   "outputs": [],
   "source": [
    "#qui c'è la parte di tomas che per ora copio dall'altro progetto"
   ]
  },
  {
   "cell_type": "code",
   "execution_count": 2,
   "id": "046d1b8a",
   "metadata": {},
   "outputs": [
    {
     "name": "stdout",
     "output_type": "stream",
     "text": [
      "Total cross section =  586.0378845408211\n",
      "Normalization pdf =  586.0378845408212\n",
      "Verify normalization:  0.9999999999999999\n"
     ]
    }
   ],
   "source": [
    "# Physical costants\n",
    "electron_charge = 1.602176634e-19 # C\n",
    "speed_of_light = 299792458 # m/s\n",
    "alpha = 0.007297\n",
    "muon_mass = 0.105658374524 #GeV\n",
    "electron_mass = 0.0005109989461 # GeV\n",
    "E_exp=2*muon_mass + 0.005\n",
    "\n",
    "conversion0 = 0.389379e6 #1/GeV --> nanoBarn\n",
    "conversion1 = (5.34*10**(-19)) #Gev/c ---- > kg*m/s (momentum)\n",
    "conversion2 = (1.78*10**(-27)) #Gev/c^2 -------> kg (mass)\n",
    "\n",
    "# Functions\n",
    "def total_cross_section_nb(s):\n",
    "    return (((alpha**2)*np.pi*4/(3*s))*np.sqrt(1-(4*muon_mass**2/s))*(1+(2*muon_mass**2)/s))*conversion0\n",
    "\n",
    "def differential_cross_section_nb(theta, s=E_exp**2): #rads\n",
    "    return (((alpha**2)*np.pi*2/(4*s))*np.sqrt(1-(4*muon_mass**2/s))*((1+(4*muon_mass**2/s))+(1-(4*muon_mass**2/s))*np.cos(theta)**2))*conversion0\n",
    "\n",
    "def pdf_theta(theta, s=E_exp**2): #rads!\n",
    "    return np.sin(theta)*differential_cross_section_nb(theta, s)\n",
    "\n",
    "print('Total cross section = ', total_cross_section_nb(E_exp**2))\n",
    "cost_norm_theta = integrate.quad(lambda theta: pdf_theta(theta),0,np.pi)\n",
    "print('Normalization pdf = ', cost_norm_theta[0])\n",
    "\n",
    "def pdf_theta_norm(theta, s=E_exp**2):\n",
    "    # Rescale both the integration interval and the pdf values\n",
    "    return (1/cost_norm_theta[0])*pdf_theta((theta*np.pi/180), s)*np.pi/180 \n",
    "\n",
    "print(\"Verify normalization: \", integrate.quad(lambda theta: pdf_theta_norm(theta),0,180)[0])\n",
    "\n",
    "E=np.arange(2*muon_mass, E_exp + 0.1,0.0001) #CoM + 0.1 to show high energy behaviour\n",
    "s=np.power(E,2)\n",
    "angles=np.arange(0,180,1)\n",
    "angles_rad=angles*(np.pi/180)\n",
    "cos_angles=np.cos(angles_rad)"
   ]
  },
  {
   "cell_type": "code",
   "execution_count": null,
   "id": "53fc7668",
   "metadata": {},
   "outputs": [],
   "source": [
    "N_simulated = 10**5"
   ]
  },
  {
   "cell_type": "markdown",
   "id": "b8d77938",
   "metadata": {},
   "source": [
    "### > HIT or MISS"
   ]
  },
  {
   "cell_type": "code",
   "execution_count": null,
   "id": "5ffd1845",
   "metadata": {},
   "outputs": [],
   "source": [
    "#Func\n",
    "def hit_or_miss(distribution, num_samples, x_range, y_range):\n",
    "    x_samples = np.random.uniform(*x_range, num_samples)\n",
    "    y_samples = np.random.uniform(*y_range, num_samples)\n",
    "    hits = y_samples <= distribution(x_samples)\n",
    "    return x_samples[hits]\n",
    "\n",
    "angle_range = (np.min(angles), np.max(angles))  # In degrees\n",
    "pdf_range = (np.min(pdf_theta_norm(angles)), np.max(pdf_theta_norm(angles)))"
   ]
  },
  {
   "cell_type": "code",
   "execution_count": null,
   "id": "08a64e73",
   "metadata": {},
   "outputs": [],
   "source": [
    "#Data saving and performance of the method\n",
    "file_time_HM = \"data/time_HM_\"+str(N_simulated)+\".npy\"\n",
    "file_data_HM = \"data/theta_samples_HM_\"+str(N_simulated)+\".npy\"\n",
    "\n",
    "start = time.time()\n",
    "theta_samples_hm = hit_or_miss(pdf_theta_norm, N_simulated, angle_range, pdf_range)\n",
    "end = time.time()\n",
    "\n",
    "np.save(file_time_HM, round(end - start,3))\n",
    "np.save(file_data_HM, theta_samples_hm)\n",
    "\n",
    "time_HM = np.load(file_time_HM)\n",
    "theta_samples_hm = np.load(file_data_HM)\n",
    "accepted_hm = len(theta_samples_hm)/N_simulated\n",
    "\n",
    "print(\"Execution time: \",time_HM, \"sec for \",N_simulated, \"iterations\")\n",
    "print(\"Accepted ratio:\", accepted_hm)"
   ]
  },
  {
   "cell_type": "code",
   "execution_count": null,
   "id": "cf0fe9f4",
   "metadata": {},
   "outputs": [],
   "source": [
    "#Plot\n",
    "num_bins_hm = int(np.sqrt(len(theta_samples_hm)))\n",
    "\n",
    "plt.figure(figsize=(12, 6))\n",
    "counts, bins, patches = plt.hist(theta_samples_hm, bins=num_bins_hm, density=True, color='skyblue')\n",
    "plt.plot(angles, pdf_theta_norm(angles), color='darkorange', linewidth=2, label=\"Theoretical PDF\")\n",
    "plt.title(r'Distribution of $\\theta$ for $\\sqrt{s}=$' + str(round(E_exp, 3)) + ' GeV Using HIT or MISS Montecarlo simulation', fontsize=16)\n",
    "plt.xlabel(r'Angle $\\theta$ [degrees]', fontsize=14)\n",
    "plt.ylabel('Probability Density', fontsize=14)\n",
    "plt.legend(fontsize=12)\n",
    "plt.grid(True, which='both', linestyle='--', linewidth=0.5)\n",
    "plt.tick_params(axis='both', which='major', labelsize=12)\n",
    "plt.tight_layout()\n",
    "plt.show()"
   ]
  },
  {
   "cell_type": "markdown",
   "id": "020b591a",
   "metadata": {},
   "source": [
    "### > METROPOLIS"
   ]
  },
  {
   "cell_type": "code",
   "execution_count": null,
   "id": "89abcabc",
   "metadata": {},
   "outputs": [],
   "source": [
    "#Func\n",
    "def metropolis_hastings(distribution, initial_sample, iterations, passes):\n",
    "    current_sample = initial_sample\n",
    "    samples = [current_sample]\n",
    "    for _ in range(iterations):\n",
    "        new_sample = np.random.normal(current_sample, passes)\n",
    "        acceptance_ratio = distribution(new_sample) / distribution(current_sample)\n",
    "        if acceptance_ratio >= 1 or acceptance_ratio > np.random.random():\n",
    "            current_sample = new_sample\n",
    "        samples.append(current_sample)   \n",
    "    return np.array(samples)\n",
    "\n",
    "initial_sample = 90  # Start from the middle of the domain\n",
    "passes = 5   # Determines how far we propose samples from current sample"
   ]
  },
  {
   "cell_type": "code",
   "execution_count": null,
   "id": "1f5ffca6",
   "metadata": {},
   "outputs": [],
   "source": [
    "#Data saving and performance of the method\n",
    "file_time_MH = \"data/time_MH_\"+str(N_simulated)+\".npy\"  # Corrected\n",
    "file_data_MH = \"data/theta_samples_MH_\"+str(N_simulated)+\".npy\"  # Corrected\n",
    "\n",
    "theta_samples_mh = metropolis_hastings(pdf_theta_norm, initial_sample, N_simulated, passes)\n",
    "\n",
    "np.save(file_time_MH, round(end - start,3))\n",
    "np.save(file_data_MH, theta_samples_mh)\n",
    "\n",
    "time_MH = np.load(file_time_MH)\n",
    "theta_samples_mh = np.load(file_data_MH)\n",
    "accepted_mh = len(theta_samples_mh)/N_simulated\n",
    "\n",
    "print(\"Execution time: \",time_MH, \"sec for \",N_simulated, \"iterations\")\n",
    "print(\"Accepted ratio:\", accepted_mh)"
   ]
  },
  {
   "cell_type": "code",
   "execution_count": null,
   "id": "4547ab0e",
   "metadata": {},
   "outputs": [],
   "source": [
    "#Plot\n",
    "num_bins_mh = int(np.sqrt(len(theta_samples_mh)))\n",
    "\n",
    "plt.figure(figsize=(12, 6))\n",
    "counts, bins, patches = plt.hist(theta_samples_mh, bins=num_bins_mh, density=True, color='skyblue')\n",
    "plt.plot(angles, pdf_theta_norm(angles), color='darkorange', linewidth=2, label=\"Theoretical PDF\")\n",
    "plt.title(r'Distribution of $\\theta$ for $\\sqrt{s}=$' + str(round(E_exp, 3)) + ' GeV Using METROPOLIS Montecarlo simulation', fontsize=16)\n",
    "plt.xlabel(r'Angle $\\theta$ [degrees]', fontsize=14)\n",
    "plt.ylabel('Probability Density', fontsize=14)\n",
    "plt.legend(fontsize=12)\n",
    "plt.grid(True, which='both', linestyle='--', linewidth=0.5)\n",
    "plt.tick_params(axis='both', which='major', labelsize=12)\n",
    "plt.tight_layout()\n",
    "plt.show()"
   ]
  },
  {
   "cell_type": "markdown",
   "id": "91899684",
   "metadata": {},
   "source": [
    "### > INVERSE SAMPLING"
   ]
  },
  {
   "cell_type": "code",
   "execution_count": null,
   "id": "6744ba39",
   "metadata": {},
   "outputs": [],
   "source": [
    "#Func\n",
    "def pdf_cos(z, s=E_exp**2):#- comes from sin(theta)d(theta) = -d(cos(theta))= -dz\n",
    "    return(((alpha**2)*np.pi*2/(4*s))*np.sqrt(1-(4*muon_mass**2/s))*((1+(4*muon_mass**2/s))+(1-(4*muon_mass**2/s))*z**2))*0.389379e6\n",
    "\n",
    "cost_norm_cos =integrate.quad(lambda z: pdf_cos(z),-1,1)\n",
    "\n",
    "def pdf_cos_norm(z,s=E_exp**2):\n",
    "    return pdf_cos(z,s)/cost_norm_z[0]\n",
    "\n",
    "def cdf_zeros(y,x,s):\n",
    "    cost = ((alpha**2)*np.pi*2/(4*s))*np.sqrt(1-(4*muon_mass**2/s))*conversion0\n",
    "    norm_cost = total_cross_section_nb(s)\n",
    "    return(- cost/(norm_cost))*( 1/3*(1-(4*muon_mass**2/s))*y**3 + \\\n",
    "                                (1+(4*muon_mass**2/s))*y - 4/3*(1 + 2*muon_mass**2/s) ) - x"
   ]
  },
  {
   "cell_type": "code",
   "execution_count": null,
   "id": "54ca0791",
   "metadata": {},
   "outputs": [],
   "source": [
    "#Data saving and performance of the method\n",
    "file_time_IS = \"data/time_IS_\"+str(N_simulated)+\".npy\"  # Corrected\n",
    "file_data_IS = \"data/theta_samples_IS_\"+str(N_simulated)+\".npy\"  # Corrected\n",
    "\n",
    "x_samples = np.random.uniform(0,1,N_simulated)\n",
    "theta_samples_is = [brentq((cdf_zeros),-1,1,args=(x,s)) for x,s in zip(x_samples,[E_exp**2]*N_simulated)]\n",
    "\n",
    "np.save(file_time_IS, round(end - start,3))\n",
    "np.save(file_data_IS, theta_samples_is)\n",
    "\n",
    "time_IS = np.load(file_time_IS)\n",
    "theta_samples_is = np.load(file_data_IS)\n",
    "accepted_is = len((theta_samples_is))/N_simulated\n",
    "\n",
    "print(\"Execution time: \",time_IS, \"sec for \",N_simulated, \"iterations\")\n",
    "print(\"Accepted ratio:\", accepted_is)"
   ]
  },
  {
   "cell_type": "code",
   "execution_count": null,
   "id": "43401f2c",
   "metadata": {},
   "outputs": [],
   "source": [
    "#Plot\n",
    "num_bins_is = int(np.sqrt(len(theta_samples_is)))\n",
    "\n",
    "plt.figure(figsize=(12, 6))\n",
    "counts, bins, patches = plt.hist(180*np.arccos(theta_samples_is)/np.pi, bins=num_bins_is, density=True, color='skyblue')\n",
    "plt.plot(angles, pdf_theta_norm(angles), color='darkorange', linewidth=2, label=\"Theoretical PDF\")\n",
    "plt.title(r'Distribution of $\\theta$ for $\\sqrt{s}=$' + str(round(E_exp, 3)) + ' GeV Using METROPOLIS Montecarlo simulation', fontsize=16)\n",
    "plt.xlabel(r'Angle $\\theta$ [degrees]', fontsize=14)\n",
    "plt.ylabel('Probability Density', fontsize=14)\n",
    "plt.legend(fontsize=12)\n",
    "plt.grid(True, which='both', linestyle='--', linewidth=0.5)\n",
    "plt.tick_params(axis='both', which='major', labelsize=12)\n",
    "plt.tight_layout()\n",
    "plt.show()"
   ]
  },
  {
   "cell_type": "markdown",
   "id": "f0465c6a",
   "metadata": {},
   "source": [
    "[BabaYaga](https://www2.pv.infn.it/~hepcomplex/babayaga.html) is a Monte Carlo event generator for $e^+e^- --> e^+e^-, μ^+μ^-, γγ$ and $π^+π^-$ processes at flavour factories, i.e. for energies below 10-12 GeV, it has been developed at the INFN center of Pavia by  C.M. Carloni Calame, G. Montagna, O. Nicrosini, F. Piccinini."
   ]
  },
  {
   "cell_type": "code",
   "execution_count": null,
   "id": "2341c000",
   "metadata": {},
   "outputs": [],
   "source": [
    "Babayaga = np.loadtxt(\"matched_el_th_exp_200.txt\").T\n",
    "theta_samples_compare = np.arccos(np.load(file_data_IS))*180/np.pi\n",
    "num_bins_is = int(np.sqrt(len(theta_samples)))\n",
    "\n",
    "plt.figure(figsize=(12, 6))\n",
    "counts, bins, patches = plt.hist(theta_samples_compare, bins=num_bins_is, density=True, color='skyblue')\n",
    "k=np.max(Babayaga[1])/np.max(counts)\n",
    "centers = [Babayaga[0][i]+(Babayaga[0][i+1]-Babayaga[0][i])/2 for i in np.arange(0,len(Babayaga[0])-1)]\n",
    "centers.append(Babayaga[0][-1]+(Babayaga[0][-1]-Babayaga[0][-2]))\n",
    "plt.plot(centers,Babayaga[1]/k, color='darkorange', linewidth=2, label=\"Theoretical PDF\")\n",
    "plt.title(r'Distribution of $\\theta$ for $\\sqrt{s}=$' + str(round(E_exp, 3)) + ' GeV Using METROPOLIS Montecarlo simulation', fontsize=16)\n",
    "plt.xlabel(r'Angle $\\theta$ [degrees]', fontsize=14)\n",
    "plt.ylabel('Probability Density', fontsize=14)\n",
    "plt.legend(fontsize=12)\n",
    "plt.grid(True, which='both', linestyle='--', linewidth=0.5)\n",
    "plt.tick_params(axis='both', which='major', labelsize=12)\n",
    "plt.tight_layout()\n",
    "plt.show()"
   ]
  },
  {
   "cell_type": "code",
   "execution_count": null,
   "id": "2c986880",
   "metadata": {
    "scrolled": true
   },
   "outputs": [],
   "source": [
    "saved_timeHM = np.load(\"data/time_HM_100000.npy\")\n",
    "saved_timeMH = np.load(\"data/time_MH_100000.npy\")\n",
    "saved_timeIS = np.load(\"data/time_IS_100000.npy\")\n",
    "\n",
    "methods = [\"Hit or Miss\", \"Metropolis - Hastings\", \"Inverse sampling method\"]\n",
    "times = [saved_timeHM, saved_timeMH, saved_timeIS]\n",
    "acceptances = [accepted_hm, accepted_mh, accepted_is]\n",
    "\n",
    "for method, time, acceptance in zip(methods, times, acceptances):\n",
    "    print(f\"{method}: Time = {time}, Acceptance = {acceptance}\")"
   ]
  },
  {
   "cell_type": "code",
   "execution_count": null,
   "id": "2a53a188-09b2-420c-85e9-ccf7b987abf9",
   "metadata": {},
   "outputs": [],
   "source": [
    "print(file_data_IS)"
   ]
  }
 ],
 "metadata": {
  "kernelspec": {
   "display_name": "Python 3 (ipykernel)",
   "language": "python",
   "name": "python3"
  },
  "language_info": {
   "codemirror_mode": {
    "name": "ipython",
    "version": 3
   },
   "file_extension": ".py",
   "mimetype": "text/x-python",
   "name": "python",
   "nbconvert_exporter": "python",
   "pygments_lexer": "ipython3",
   "version": "3.11.7"
  }
 },
 "nbformat": 4,
 "nbformat_minor": 5
}
